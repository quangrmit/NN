{
 "cells": [
  {
   "cell_type": "code",
   "execution_count": 3,
   "metadata": {},
   "outputs": [],
   "source": [
    "import numpy as np\n",
    "import math\n",
    "from nn import sigmoid"
   ]
  },
  {
   "cell_type": "code",
   "execution_count": 9,
   "metadata": {},
   "outputs": [
    {
     "name": "stdout",
     "output_type": "stream",
     "text": [
      "1.5456448841066441\n"
     ]
    }
   ],
   "source": [
    "# forward pass\n",
    "x = 3\n",
    "y = -4\n",
    "\n",
    "sigx = sigmoid(x)\n",
    "sigy = sigmoid(y)\n",
    "\n",
    "num = x + sigy\n",
    "s = x + y\n",
    "sq_sum = (s)**2\n",
    "denom = sigx + sq_sum\n",
    "\n",
    "f = num / denom"
   ]
  },
  {
   "cell_type": "code",
   "execution_count": 16,
   "metadata": {},
   "outputs": [
    {
     "name": "stdout",
     "output_type": "stream",
     "text": [
      "0.5121444488396316\n",
      "-0.7915934472725935\n",
      "-0.7915934472725935\n",
      "1.583186894545187\n"
     ]
    }
   ],
   "source": [
    "# backprop\n",
    "dnum = 1 / denom\n",
    "print(dnum)\n",
    "\n",
    "ddenom = num * (-1 / denom**2)\n",
    "print(ddenom)\n",
    "\n",
    "dsigx = 1 * ddenom\n",
    "print(dsigx)\n",
    "dsq_sum = 1 * ddenom\n",
    "\n",
    "ds = 2*s * dsq_sum\n",
    "print(ds)\n",
    "\n",
    "dx = 1 * ds\n",
    "dy = 1 * ds\n",
    "\n",
    "dsigy = 1 * dnum\n",
    "dx += 1 * dnum\n",
    "\n",
    "dx += (1 - sigmoid(x))*sigmoid(x)*dsigx\n",
    "dy += (1 - sigmoid(y))*sigmoid(y)*dsigy"
   ]
  },
  {
   "cell_type": "code",
   "execution_count": 17,
   "metadata": {},
   "outputs": [
    {
     "name": "stdout",
     "output_type": "stream",
     "text": [
      "2.0595697955721652\n",
      "1.5922327514838093\n"
     ]
    }
   ],
   "source": [
    "print(dx)\n",
    "print(dy)"
   ]
  },
  {
   "cell_type": "code",
   "execution_count": 18,
   "metadata": {},
   "outputs": [
    {
     "name": "stdout",
     "output_type": "stream",
     "text": [
      "0.5121444488396316\n",
      "-0.7915934472725935\n",
      "-0.7915934472725935\n",
      "1.583186894545187\n",
      "2.0595697955721652\n",
      "1.5922327514838093\n"
     ]
    }
   ],
   "source": [
    "x = 3 # example values\n",
    "y = -4\n",
    "\n",
    "# forward pass\n",
    "sigy = 1.0 / (1 + math.exp(-y)) # sigmoid in numerator   #(1)\n",
    "num = x + sigy # numerator                               #(2)\n",
    "sigx = 1.0 / (1 + math.exp(-x)) # sigmoid in denominator #(3)\n",
    "xpy = x + y                                              #(4)\n",
    "xpysqr = xpy**2                                          #(5)\n",
    "den = sigx + xpysqr # denominator                        #(6)\n",
    "invden = 1.0 / den                                       #(7)\n",
    "f = num * invden # done!                                 #(8)\n",
    "\n",
    "\n",
    "# backprop f = num * invden\n",
    "dnum = invden # gradient on numerator                             #(8)\n",
    "print(dnum)\n",
    "dinvden = num                                                     #(8)\n",
    "# backprop invden = 1.0 / den \n",
    "dden = (-1.0 / (den**2)) * dinvden                                #(7)\n",
    "print(dden)\n",
    "# backprop den = sigx + xpysqr\n",
    "dsigx = (1) * dden                                                #(6)\n",
    "print(dsigx)\n",
    "dxpysqr = (1) * dden                                              #(6)\n",
    "# backprop xpysqr = xpy**2\n",
    "dxpy = (2 * xpy) * dxpysqr                                        #(5)\n",
    "print(dxpy)\n",
    "# backprop xpy = x + y\n",
    "dx = (1) * dxpy                                                   #(4)\n",
    "dy = (1) * dxpy                                                   #(4)\n",
    "# backprop sigx = 1.0 / (1 + math.exp(-x))\n",
    "dx += ((1 - sigx) * sigx) * dsigx # Notice += !! See notes below  #(3)\n",
    "# backprop num = x + sigy\n",
    "dx += (1) * dnum                                                  #(2)\n",
    "dsigy = (1) * dnum                                                #(2)\n",
    "# backprop sigy = 1.0 / (1 + math.exp(-y))\n",
    "dy += ((1 - sigy) * sigy) * dsigy                                 #(1)\n",
    "# done! phew\n",
    "\n",
    "print(dx)\n",
    "print(dy)"
   ]
  }
 ],
 "metadata": {
  "kernelspec": {
   "display_name": "Python 3",
   "language": "python",
   "name": "python3"
  },
  "language_info": {
   "codemirror_mode": {
    "name": "ipython",
    "version": 3
   },
   "file_extension": ".py",
   "mimetype": "text/x-python",
   "name": "python",
   "nbconvert_exporter": "python",
   "pygments_lexer": "ipython3",
   "version": "3.10.6"
  }
 },
 "nbformat": 4,
 "nbformat_minor": 2
}
